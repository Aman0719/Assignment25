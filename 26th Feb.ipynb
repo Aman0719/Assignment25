{
 "cells": [
  {
   "cell_type": "code",
   "execution_count": 3,
   "id": "d62bdfa0-a41d-466f-8164-0f0ea4677b4d",
   "metadata": {},
   "outputs": [],
   "source": [
    "#Consider the below code to answer further questions:\n",
    "import numpy as np\n",
    "list_ = [ '1' , '2' , '3' , '4' , '5' ]\n",
    "array_list = np.array(object = list_)"
   ]
  },
  {
   "cell_type": "code",
   "execution_count": null,
   "id": "43c9c04f-b24d-40f9-9315-fd7c256097c8",
   "metadata": {},
   "outputs": [],
   "source": [
    "Q1. Is there any difference in the data type of variables list_ and array_list? \n",
    "    If there is then write a code to print the data types of both the variables.\n",
    "\n",
    "Ans-\n",
    "\n",
    "The main difference between the data types of list_ and array_list is that list_ is a Python list, which can contain elements of different data types, \n",
    "whereas array_list is a NumPy array that can only contain elements of a single data type.\n",
    "\n",
    "In the given code, the list_ variable contains string elements, but it could contain elements of any data type, such as integers, floats, booleans, or even other nested lists. \n",
    "On the other hand, the array_list variable is created using NumPy array() function, which by default converts all elements of the input object to a common data type. \n",
    "In this case, the string elements of list_ are converted to the string data type in the resulting NumPy array array_list.\n",
    "\n",
    "Using a NumPy array with a single data type has several advantages over using a Python list with mixed data types, including faster computation speed, lower memory usage, and better support for mathematical operations."
   ]
  },
  {
   "cell_type": "code",
   "execution_count": 4,
   "id": "a20ca1a2-b667-4e7f-9960-83782211950a",
   "metadata": {},
   "outputs": [
    {
     "name": "stdout",
     "output_type": "stream",
     "text": [
      "<class 'list'>\n",
      "<class 'numpy.ndarray'>\n"
     ]
    }
   ],
   "source": [
    "#Print the data types:\n",
    "\n",
    "print(type(list_))       \n",
    "print(type(array_list)) "
   ]
  },
  {
   "cell_type": "code",
   "execution_count": 5,
   "id": "36a233de-86ff-4bcd-8222-5189146079b5",
   "metadata": {},
   "outputs": [
    {
     "name": "stdout",
     "output_type": "stream",
     "text": [
      "<class 'str'>\n",
      "<class 'str'>\n",
      "<class 'str'>\n",
      "<class 'str'>\n",
      "<class 'str'>\n",
      "<U1\n",
      "<U1\n",
      "<U1\n",
      "<U1\n",
      "<U1\n"
     ]
    }
   ],
   "source": [
    "#Q2. Write a code to print the data type of each and every element of both the variables list_ and array_list.\n",
    "\n",
    "#Ans-\n",
    "\n",
    "list_ = ['1', '2', '3', '4', '5']\n",
    "array_list = np.array(object=list_)\n",
    "\n",
    "# Print data type of each element of list_\n",
    "for element in list_:\n",
    "    print(type(element))\n",
    "\n",
    "# Print data type of each element of array_list\n",
    "for element in array_list:\n",
    "    print(element.dtype)\n"
   ]
  },
  {
   "cell_type": "code",
   "execution_count": null,
   "id": "67fa5fe1-8f0b-4259-948a-6257526133b2",
   "metadata": {},
   "outputs": [],
   "source": [
    "Q3. Considering the following changes in the variable, array_list:\n",
    "    array_list = np.array(object = list_, dtype = int)\n",
    "\n",
    "Will there be any difference in the data type of the elements present in both the variables, list_ and arra_list? \n",
    "If so then print the data types of each and every element present in both the variables, list_ and arra_list.\n",
    "\n",
    "Ans-\n",
    "\n",
    "Yes, there will be a difference in the data type of the elements present in list_ and array_list. \n",
    "When creating array_list using the np.array() function and specifying the dtype argument as int, all elements of the original list_ will be converted to integers as we are specifying the dtype=int.\n"
   ]
  },
  {
   "cell_type": "code",
   "execution_count": 6,
   "id": "1775d91e-0dba-43f5-9d77-fe0b6f58899c",
   "metadata": {},
   "outputs": [
    {
     "name": "stdout",
     "output_type": "stream",
     "text": [
      "<class 'str'>\n",
      "<class 'str'>\n",
      "<class 'str'>\n",
      "<class 'str'>\n",
      "<class 'str'>\n",
      "int64\n",
      "int64\n",
      "int64\n",
      "int64\n",
      "int64\n"
     ]
    }
   ],
   "source": [
    "list_ = ['1', '2', '3', '4', '5']\n",
    "array_list = np.array(object=list_, dtype=int)\n",
    "\n",
    "# Print data type of each element of list_\n",
    "for element in list_:\n",
    "    print(type(element))\n",
    "\n",
    "# Print data type of each element of array_list\n",
    "for element in array_list:\n",
    "    print(element.dtype)\n"
   ]
  },
  {
   "cell_type": "code",
   "execution_count": 7,
   "id": "2bc031a5-d281-4841-902e-683c0f19e9b4",
   "metadata": {},
   "outputs": [],
   "source": [
    "#Consider the below code to answer further questions:\n",
    "import numpy as np\n",
    "num_list = [ [ 1 , 2 , 3 ] , [ 4 , 5 , 6 ] ]\n",
    "num_array = np.array(object = num_list)"
   ]
  },
  {
   "cell_type": "code",
   "execution_count": null,
   "id": "1c1d8477-086f-4f43-acdf-6da8ec84fd4f",
   "metadata": {},
   "outputs": [],
   "source": [
    "Q4. Write a code to find the following characteristics of variable, num_array:\n",
    "(i) shape\n",
    "(ii) size"
   ]
  },
  {
   "cell_type": "code",
   "execution_count": 8,
   "id": "364f9188-9f87-4d44-bc9c-c1b905fac18d",
   "metadata": {},
   "outputs": [
    {
     "name": "stdout",
     "output_type": "stream",
     "text": [
      "Shape of the array: (2, 3)\n"
     ]
    }
   ],
   "source": [
    "#(i) Find the shape of the array\n",
    "shape = num_array.shape\n",
    "print(\"Shape of the array:\", shape)"
   ]
  },
  {
   "cell_type": "code",
   "execution_count": 9,
   "id": "5db3469e-586e-48aa-9352-87924aa015c6",
   "metadata": {},
   "outputs": [
    {
     "name": "stdout",
     "output_type": "stream",
     "text": [
      "Size of the array: 6\n"
     ]
    }
   ],
   "source": [
    "# (ii) Find the size of the array\n",
    "size = num_array.size\n",
    "print(\"Size of the array:\", size)"
   ]
  },
  {
   "cell_type": "code",
   "execution_count": 10,
   "id": "1919250b-f0fc-4b90-bf98-f0e7dfbc85fe",
   "metadata": {},
   "outputs": [
    {
     "name": "stdout",
     "output_type": "stream",
     "text": [
      "[[0. 0. 0.]\n",
      " [0. 0. 0.]\n",
      " [0. 0. 0.]]\n"
     ]
    }
   ],
   "source": [
    "#Q5. Write a code to create numpy array of 3*3 matrix containing zeros only, using a numpy arraycreation function.\n",
    " #   [Hint: The size of the array will be 9 and the shape will be (3,3).]\n",
    "    \n",
    "#Ans-\n",
    "\n",
    "# Create a numpy array of zeros with a shape of (3, 3)\n",
    "zeros_array = np.zeros(shape=(3, 3))\n",
    "\n",
    "# Print the zeros array\n",
    "print(zeros_array)"
   ]
  },
  {
   "cell_type": "code",
   "execution_count": 11,
   "id": "4a264ec8-ea20-4bd8-8742-9b21fc83f23b",
   "metadata": {},
   "outputs": [
    {
     "name": "stdout",
     "output_type": "stream",
     "text": [
      "[[1. 0. 0. 0. 0.]\n",
      " [0. 1. 0. 0. 0.]\n",
      " [0. 0. 1. 0. 0.]\n",
      " [0. 0. 0. 1. 0.]\n",
      " [0. 0. 0. 0. 1.]]\n"
     ]
    }
   ],
   "source": [
    "#Q6. Create an identity matrix of shape (5,5) using numpy functions?\n",
    "    #[Hint: An identity matrix is a matrix containing 1 diagonally and other elements will be 0.]\n",
    "\n",
    "#Ans-\n",
    "\n",
    "# Create a 5x5 identity matrix\n",
    "identity_matrix = np.identity(n=5)\n",
    "\n",
    "# Print the identity matrix\n",
    "print(identity_matrix)"
   ]
  },
  {
   "cell_type": "code",
   "execution_count": null,
   "id": "165e090e-9967-45a6-a083-ef7fb2a796ae",
   "metadata": {},
   "outputs": [],
   "source": []
  }
 ],
 "metadata": {
  "kernelspec": {
   "display_name": "Python 3 (ipykernel)",
   "language": "python",
   "name": "python3"
  },
  "language_info": {
   "codemirror_mode": {
    "name": "ipython",
    "version": 3
   },
   "file_extension": ".py",
   "mimetype": "text/x-python",
   "name": "python",
   "nbconvert_exporter": "python",
   "pygments_lexer": "ipython3",
   "version": "3.10.8"
  }
 },
 "nbformat": 4,
 "nbformat_minor": 5
}
